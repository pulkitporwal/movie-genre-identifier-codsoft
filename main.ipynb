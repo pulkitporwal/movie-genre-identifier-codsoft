{
 "cells": [
  {
   "cell_type": "code",
   "execution_count": 1,
   "metadata": {},
   "outputs": [],
   "source": [
    "import pandas as pd\n",
    "import numpy as np\n",
    "import seaborn as sns\n",
    "import matplotlib.pyplot as plt\n",
    "import re\n",
    "import string\n",
    "import nltk\n",
    "from nltk.corpus import stopwords\n",
    "from sklearn.feature_extraction.text import TfidfVectorizer\n",
    "from sklearn import svm\n",
    "from sklearn.naive_bayes import MultinomialNB\n",
    "from sklearn.linear_model import LogisticRegression\n",
    "from sklearn.metrics import accuracy_score, classification_report\n",
    "\n",
    "# Download NLTK stopwords\n",
    "try:\n",
    "    stopwords.words('english')\n",
    "except LookupError:\n",
    "    nltk.download('stopwords')"
   ]
  },
  {
   "cell_type": "code",
   "execution_count": 2,
   "metadata": {},
   "outputs": [],
   "source": [
    "# Read Train and Test Data\n",
    "train_data = pd.read_csv('train_data.txt', sep=\":::\", names=['Id', 'Title', 'Genre', 'Description'], engine='python', index_col=0)\n",
    "test_data = pd.read_csv('test_data_solution.txt', sep=\":::\", names=['Id', 'Title', 'Genre', 'Description'], engine='python', index_col=0)\n"
   ]
  },
  {
   "cell_type": "code",
   "execution_count": 3,
   "metadata": {},
   "outputs": [
    {
     "name": "stdout",
     "output_type": "stream",
     "text": [
      "Train Data Info\n",
      "<class 'pandas.core.frame.DataFrame'>\n",
      "Index: 2000 entries, 1 to 2000\n",
      "Data columns (total 3 columns):\n",
      " #   Column       Non-Null Count  Dtype \n",
      "---  ------       --------------  ----- \n",
      " 0   Title        2000 non-null   object\n",
      " 1   Genre        2000 non-null   object\n",
      " 2   Description  2000 non-null   object\n",
      "dtypes: object(3)\n",
      "memory usage: 62.5+ KB\n",
      "\n",
      "Train Data Description\n",
      "\n",
      "Test Data Info\n",
      "<class 'pandas.core.frame.DataFrame'>\n",
      "Index: 54200 entries, 1 to 54200\n",
      "Data columns (total 3 columns):\n",
      " #   Column       Non-Null Count  Dtype \n",
      "---  ------       --------------  ----- \n",
      " 0   Title        54200 non-null  object\n",
      " 1   Genre        54200 non-null  object\n",
      " 2   Description  54200 non-null  object\n",
      "dtypes: object(3)\n",
      "memory usage: 1.7+ MB\n",
      "\n",
      "Test Data Description\n"
     ]
    },
    {
     "data": {
      "text/html": [
       "<div>\n",
       "<style scoped>\n",
       "    .dataframe tbody tr th:only-of-type {\n",
       "        vertical-align: middle;\n",
       "    }\n",
       "\n",
       "    .dataframe tbody tr th {\n",
       "        vertical-align: top;\n",
       "    }\n",
       "\n",
       "    .dataframe thead th {\n",
       "        text-align: right;\n",
       "    }\n",
       "</style>\n",
       "<table border=\"1\" class=\"dataframe\">\n",
       "  <thead>\n",
       "    <tr style=\"text-align: right;\">\n",
       "      <th></th>\n",
       "      <th>Title</th>\n",
       "      <th>Genre</th>\n",
       "      <th>Description</th>\n",
       "    </tr>\n",
       "  </thead>\n",
       "  <tbody>\n",
       "    <tr>\n",
       "      <th>count</th>\n",
       "      <td>54200</td>\n",
       "      <td>54200</td>\n",
       "      <td>54200</td>\n",
       "    </tr>\n",
       "    <tr>\n",
       "      <th>unique</th>\n",
       "      <td>54200</td>\n",
       "      <td>27</td>\n",
       "      <td>54072</td>\n",
       "    </tr>\n",
       "    <tr>\n",
       "      <th>top</th>\n",
       "      <td>Edgar's Lunch (1998)</td>\n",
       "      <td>drama</td>\n",
       "      <td>Grammy - music award of the American academy ...</td>\n",
       "    </tr>\n",
       "    <tr>\n",
       "      <th>freq</th>\n",
       "      <td>1</td>\n",
       "      <td>13612</td>\n",
       "      <td>10</td>\n",
       "    </tr>\n",
       "  </tbody>\n",
       "</table>\n",
       "</div>"
      ],
      "text/plain": [
       "                         Title    Genre  \\\n",
       "count                    54200    54200   \n",
       "unique                   54200       27   \n",
       "top      Edgar's Lunch (1998)    drama    \n",
       "freq                         1    13612   \n",
       "\n",
       "                                              Description  \n",
       "count                                               54200  \n",
       "unique                                              54072  \n",
       "top      Grammy - music award of the American academy ...  \n",
       "freq                                                   10  "
      ]
     },
     "execution_count": 3,
     "metadata": {},
     "output_type": "execute_result"
    }
   ],
   "source": [
    "# Display data information\n",
    "print(\"Train Data Info\")\n",
    "train_data.info()\n",
    "print(\"\\nTrain Data Description\")\n",
    "train_data.describe()\n",
    "\n",
    "print(\"\\nTest Data Info\")\n",
    "test_data.info()\n",
    "print(\"\\nTest Data Description\")\n",
    "test_data.describe()"
   ]
  },
  {
   "cell_type": "markdown",
   "metadata": {},
   "source": [
    "### Exploratory Data Analysis"
   ]
  },
  {
   "cell_type": "code",
   "execution_count": 4,
   "metadata": {},
   "outputs": [
    {
     "data": {
      "text/plain": [
       "Text(0.5, 1.0, 'Genre Distribution in Train Data')"
      ]
     },
     "execution_count": 4,
     "metadata": {},
     "output_type": "execute_result"
    },
    {
     "data": {
      "image/png": "[encoded data removed]",
      "text/plain": [
       "<Figure size 1000x600 with 1 Axes>"
      ]
     },
     "metadata": {},
     "output_type": "display_data"
    }
   ],
   "source": [
    "plt.figure(figsize=(10, 6))\n",
    "\n",
    "sns.countplot(data=train_data, y=\"Genre\", order=train_data['Genre'].value_counts().index, width=0.9, hue=train_data['Genre'])\n",
    "\n",
    "plt.xlabel('Count')\n",
    "plt.ylabel('Genre')\n",
    "plt.title('Genre Distribution in Train Data')"
   ]
  },
  {
   "cell_type": "markdown",
   "metadata": {},
   "source": [
    "### Data Preprocessing"
   ]
  },
  {
   "cell_type": "code",
   "execution_count": 5,
   "metadata": {},
   "outputs": [],
   "source": [
    "# Data Preprocessing Function\n",
    "def process_text(text):\n",
    "    text = text.lower()\n",
    "    # Remove HTML tags\n",
    "    text = re.sub('<.*?>', '', text)\n",
    "    # Remove URLs\n",
    "    text = re.sub(r'https?://\\S+|www\\.\\S+', '', text)\n",
    "    # Remove punctuation\n",
    "    text = ''.join([char for char in text if char not in string.punctuation])\n",
    "    # Remove stopwords\n",
    "    stop_words = set(stopwords.words('english'))\n",
    "    text = ' '.join([word for word in text.split() if word not in stop_words])\n",
    "    return text"
   ]
  },
  {
   "cell_type": "code",
   "execution_count": 6,
   "metadata": {},
   "outputs": [],
   "source": [
    "# Apply preprocessing to Description column\n",
    "train_data['Description'] = train_data['Description'].apply(process_text)\n",
    "test_data['Description'] = test_data['Description'].apply(process_text)\n"
   ]
  },
  {
   "cell_type": "code",
   "execution_count": 7,
   "metadata": {},
   "outputs": [],
   "source": [
    "# Split data into X and Y\n",
    "X_train = train_data['Description']\n",
    "Y_train = train_data['Genre']\n",
    "X_test = test_data['Description']\n",
    "Y_test = test_data['Genre']"
   ]
  },
  {
   "cell_type": "code",
   "execution_count": 8,
   "metadata": {},
   "outputs": [],
   "source": [
    "# Vectorize using TF-IDF\n",
    "tfidf = TfidfVectorizer()\n",
    "X_train_TFIDF = tfidf.fit_transform(X_train)\n",
    "X_test_TFIDF = tfidf.transform(X_test)"
   ]
  },
  {
   "cell_type": "markdown",
   "metadata": {},
   "source": [
    "### Model Training and Evaluation"
   ]
  },
  {
   "cell_type": "code",
   "execution_count": 9,
   "metadata": {},
   "outputs": [],
   "source": [
    "# Naive Bayes\n",
    "nb_model = MultinomialNB()\n",
    "nb_model.fit(X_train_TFIDF, Y_train)\n",
    "Y_pred_nb = nb_model.predict(X_test_TFIDF)\n",
    "\n",
    "\n",
    "# Logistic Regression\n",
    "lr_model = LogisticRegression(max_iter=1000)\n",
    "lr_model.fit(X_train_TFIDF, Y_train)\n",
    "Y_pred_lr = lr_model.predict(X_test_TFIDF)\n",
    "\n",
    "# SVM\n",
    "svm_model = svm.SVC(kernel='linear')\n",
    "svm_model.fit(X_train_TFIDF, Y_train)\n",
    "Y_pred_svm = svm_model.predict(X_test_TFIDF)"
   ]
  },
  {
   "cell_type": "code",
   "execution_count": 10,
   "metadata": {},
   "outputs": [
    {
     "name": "stdout",
     "output_type": "stream",
     "text": [
      "\n",
      "Naive Bayes Accuracy: 0.43\n"
     ]
    },
    {
     "name": "stderr",
     "output_type": "stream",
     "text": [
      "c:\\Users\\SS\\AppData\\Local\\Programs\\Python\\Python312\\Lib\\site-packages\\sklearn\\metrics\\_classification.py:1509: UndefinedMetricWarning: Precision is ill-defined and being set to 0.0 in labels with no predicted samples. Use `zero_division` parameter to control this behavior.\n",
      "  _warn_prf(average, modifier, f\"{metric.capitalize()} is\", len(result))\n",
      "c:\\Users\\SS\\AppData\\Local\\Programs\\Python\\Python312\\Lib\\site-packages\\sklearn\\metrics\\_classification.py:1509: UndefinedMetricWarning: Precision is ill-defined and being set to 0.0 in labels with no predicted samples. Use `zero_division` parameter to control this behavior.\n",
      "  _warn_prf(average, modifier, f\"{metric.capitalize()} is\", len(result))\n",
      "c:\\Users\\SS\\AppData\\Local\\Programs\\Python\\Python312\\Lib\\site-packages\\sklearn\\metrics\\_classification.py:1509: UndefinedMetricWarning: Precision is ill-defined and being set to 0.0 in labels with no predicted samples. Use `zero_division` parameter to control this behavior.\n",
      "  _warn_prf(average, modifier, f\"{metric.capitalize()} is\", len(result))\n"
     ]
    },
    {
     "name": "stdout",
     "output_type": "stream",
     "text": [
      "Naive Bayes Classification Report:\n",
      "                precision    recall  f1-score   support\n",
      "\n",
      "      action        0.00      0.00      0.00      1314\n",
      "       adult        0.00      0.00      0.00       590\n",
      "   adventure        0.00      0.00      0.00       775\n",
      "   animation        0.00      0.00      0.00       498\n",
      "   biography        0.00      0.00      0.00       264\n",
      "      comedy        0.75      0.01      0.01      7446\n",
      "       crime        0.00      0.00      0.00       505\n",
      " documentary        0.56      0.81      0.66     13096\n",
      "       drama        0.35      0.91      0.51     13612\n",
      "      family        0.00      0.00      0.00       783\n",
      "     fantasy        0.00      0.00      0.00       322\n",
      "   game-show        0.00      0.00      0.00       193\n",
      "     history        0.00      0.00      0.00       243\n",
      "      horror        0.00      0.00      0.00      2204\n",
      "       music        0.00      0.00      0.00       731\n",
      "     musical        0.00      0.00      0.00       276\n",
      "     mystery        0.00      0.00      0.00       318\n",
      "        news        0.00      0.00      0.00       181\n",
      "  reality-tv        0.00      0.00      0.00       883\n",
      "     romance        0.00      0.00      0.00       672\n",
      "      sci-fi        0.00      0.00      0.00       646\n",
      "       short        1.00      0.00      0.00      5072\n",
      "       sport        0.00      0.00      0.00       431\n",
      "   talk-show        0.00      0.00      0.00       391\n",
      "    thriller        0.00      0.00      0.00      1590\n",
      "         war        0.00      0.00      0.00       132\n",
      "     western        0.00      0.00      0.00      1032\n",
      "\n",
      "     accuracy                           0.43     54200\n",
      "    macro avg       0.10      0.06      0.04     54200\n",
      " weighted avg       0.42      0.43      0.29     54200\n",
      "\n",
      "\n",
      "Logistic Regression Accuracy: 0.45\n"
     ]
    },
    {
     "name": "stderr",
     "output_type": "stream",
     "text": [
      "c:\\Users\\SS\\AppData\\Local\\Programs\\Python\\Python312\\Lib\\site-packages\\sklearn\\metrics\\_classification.py:1509: UndefinedMetricWarning: Precision is ill-defined and being set to 0.0 in labels with no predicted samples. Use `zero_division` parameter to control this behavior.\n",
      "  _warn_prf(average, modifier, f\"{metric.capitalize()} is\", len(result))\n",
      "c:\\Users\\SS\\AppData\\Local\\Programs\\Python\\Python312\\Lib\\site-packages\\sklearn\\metrics\\_classification.py:1509: UndefinedMetricWarning: Precision is ill-defined and being set to 0.0 in labels with no predicted samples. Use `zero_division` parameter to control this behavior.\n",
      "  _warn_prf(average, modifier, f\"{metric.capitalize()} is\", len(result))\n",
      "c:\\Users\\SS\\AppData\\Local\\Programs\\Python\\Python312\\Lib\\site-packages\\sklearn\\metrics\\_classification.py:1509: UndefinedMetricWarning: Precision is ill-defined and being set to 0.0 in labels with no predicted samples. Use `zero_division` parameter to control this behavior.\n",
      "  _warn_prf(average, modifier, f\"{metric.capitalize()} is\", len(result))\n"
     ]
    },
    {
     "name": "stdout",
     "output_type": "stream",
     "text": [
      "Logistic Regression Classification Report:\n",
      "                precision    recall  f1-score   support\n",
      "\n",
      "      action        0.00      0.00      0.00      1314\n",
      "       adult        0.00      0.00      0.00       590\n",
      "   adventure        0.00      0.00      0.00       775\n",
      "   animation        0.00      0.00      0.00       498\n",
      "   biography        0.00      0.00      0.00       264\n",
      "      comedy        0.58      0.17      0.26      7446\n",
      "       crime        0.00      0.00      0.00       505\n",
      " documentary        0.51      0.87      0.64     13096\n",
      "       drama        0.39      0.85      0.53     13612\n",
      "      family        0.00      0.00      0.00       783\n",
      "     fantasy        0.00      0.00      0.00       322\n",
      "   game-show        0.00      0.00      0.00       193\n",
      "     history        0.00      0.00      0.00       243\n",
      "      horror        0.00      0.00      0.00      2204\n",
      "       music        0.00      0.00      0.00       731\n",
      "     musical        0.00      0.00      0.00       276\n",
      "     mystery        0.00      0.00      0.00       318\n",
      "        news        0.00      0.00      0.00       181\n",
      "  reality-tv        0.00      0.00      0.00       883\n",
      "     romance        0.00      0.00      0.00       672\n",
      "      sci-fi        0.00      0.00      0.00       646\n",
      "       short        0.91      0.00      0.00      5072\n",
      "       sport        0.00      0.00      0.00       431\n",
      "   talk-show        0.00      0.00      0.00       391\n",
      "    thriller        0.00      0.00      0.00      1590\n",
      "         war        0.00      0.00      0.00       132\n",
      "     western        1.00      0.00      0.00      1032\n",
      "\n",
      "     accuracy                           0.45     54200\n",
      "    macro avg       0.13      0.07      0.05     54200\n",
      " weighted avg       0.40      0.45      0.33     54200\n",
      "\n",
      "\n",
      "SVM Accuracy: 0.47\n"
     ]
    },
    {
     "name": "stderr",
     "output_type": "stream",
     "text": [
      "c:\\Users\\SS\\AppData\\Local\\Programs\\Python\\Python312\\Lib\\site-packages\\sklearn\\metrics\\_classification.py:1509: UndefinedMetricWarning: Precision is ill-defined and being set to 0.0 in labels with no predicted samples. Use `zero_division` parameter to control this behavior.\n",
      "  _warn_prf(average, modifier, f\"{metric.capitalize()} is\", len(result))\n",
      "c:\\Users\\SS\\AppData\\Local\\Programs\\Python\\Python312\\Lib\\site-packages\\sklearn\\metrics\\_classification.py:1509: UndefinedMetricWarning: Precision is ill-defined and being set to 0.0 in labels with no predicted samples. Use `zero_division` parameter to control this behavior.\n",
      "  _warn_prf(average, modifier, f\"{metric.capitalize()} is\", len(result))\n"
     ]
    },
    {
     "name": "stdout",
     "output_type": "stream",
     "text": [
      "SVM Classification Report:\n",
      "                precision    recall  f1-score   support\n",
      "\n",
      "      action        0.50      0.00      0.00      1314\n",
      "       adult        0.00      0.00      0.00       590\n",
      "   adventure        0.00      0.00      0.00       775\n",
      "   animation        0.00      0.00      0.00       498\n",
      "   biography        0.00      0.00      0.00       264\n",
      "      comedy        0.48      0.31      0.38      7446\n",
      "       crime        0.00      0.00      0.00       505\n",
      " documentary        0.55      0.85      0.67     13096\n",
      "       drama        0.40      0.83      0.54     13612\n",
      "      family        1.00      0.00      0.00       783\n",
      "     fantasy        0.00      0.00      0.00       322\n",
      "   game-show        0.00      0.00      0.00       193\n",
      "     history        0.00      0.00      0.00       243\n",
      "      horror        0.74      0.03      0.06      2204\n",
      "       music        1.00      0.01      0.03       731\n",
      "     musical        0.00      0.00      0.00       276\n",
      "     mystery        0.00      0.00      0.00       318\n",
      "        news        0.00      0.00      0.00       181\n",
      "  reality-tv        1.00      0.00      0.00       883\n",
      "     romance        0.00      0.00      0.00       672\n",
      "      sci-fi        0.00      0.00      0.00       646\n",
      "       short        0.62      0.04      0.08      5072\n",
      "       sport        1.00      0.00      0.00       431\n",
      "   talk-show        0.00      0.00      0.00       391\n",
      "    thriller        0.00      0.00      0.00      1590\n",
      "         war        0.00      0.00      0.00       132\n",
      "     western        0.96      0.20      0.34      1032\n",
      "\n",
      "     accuracy                           0.47     54200\n",
      "    macro avg       0.31      0.08      0.08     54200\n",
      " weighted avg       0.47      0.47      0.37     54200\n",
      "\n"
     ]
    },
    {
     "name": "stderr",
     "output_type": "stream",
     "text": [
      "c:\\Users\\SS\\AppData\\Local\\Programs\\Python\\Python312\\Lib\\site-packages\\sklearn\\metrics\\_classification.py:1509: UndefinedMetricWarning: Precision is ill-defined and being set to 0.0 in labels with no predicted samples. Use `zero_division` parameter to control this behavior.\n",
      "  _warn_prf(average, modifier, f\"{metric.capitalize()} is\", len(result))\n"
     ]
    }
   ],
   "source": [
    "# Evaluate all models\n",
    "print(f'\\nNaive Bayes Accuracy: {accuracy_score(Y_test, Y_pred_nb):.2f}')\n",
    "print('Naive Bayes Classification Report:\\n', classification_report(Y_test, Y_pred_nb))\n",
    "\n",
    "print(f'\\nLogistic Regression Accuracy: {accuracy_score(Y_test, Y_pred_lr):.2f}')\n",
    "print('Logistic Regression Classification Report:\\n', classification_report(Y_test, Y_pred_lr))\n",
    "\n",
    "print(f'\\nSVM Accuracy: {accuracy_score(Y_test, Y_pred_svm):.2f}')\n",
    "print('SVM Classification Report:\\n', classification_report(Y_test, Y_pred_svm))"
   ]
  }
 ],
 "metadata": {
  "kernelspec": {
   "display_name": "Python 3",
   "language": "python",
   "name": "python3"
  },
  "language_info": {
   "codemirror_mode": {
    "name": "ipython",
    "version": 3
   },
   "file_extension": ".py",
   "mimetype": "text/x-python",
   "name": "python",
   "nbconvert_exporter": "python",
   "pygments_lexer": "ipython3",
   "version": "3.12.1"
  }
 },
 "nbformat": 4,
 "nbformat_minor": 2
}
